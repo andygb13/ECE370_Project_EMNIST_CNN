{
  "nbformat": 4,
  "nbformat_minor": 0,
  "metadata": {
    "colab": {
      "name": "ECE470 - Project .ipynb",
      "provenance": [],
      "collapsed_sections": []
    },
    "kernelspec": {
      "display_name": "Python 3",
      "name": "python3"
    },
    "language_info": {
      "name": "python"
    },
    "accelerator": "GPU"
  },
  "cells": [
    {
      "cell_type": "markdown",
      "metadata": {
        "id": "smnmMZeLlpyW"
      },
      "source": [
        "# ECE 470 - Final Project\n",
        "## Group Members: Andy Guevara - V00951198\n",
        "## Handwritten Character Recognition Using Convolutional Neural Networks\n",
        "\n",
        "---\n",
        "\n",
        "\n",
        "Import required libraries and set up GPU."
      ]
    },
    {
      "cell_type": "code",
      "metadata": {
        "colab": {
          "base_uri": "https://localhost:8080/"
        },
        "id": "YvqYQIVjnAoG",
        "outputId": "63c40eff-4524-40eb-cf49-39575fb1b10d"
      },
      "source": [
        "import sys\n",
        "import tensorflow as tf\n",
        "import tensorflow.compat.v2 as tf\n",
        "import tensorflow_datasets as tfds\n",
        "from tensorflow import keras\n",
        "from tensorflow.keras import layers, models\n",
        "import seaborn as sns\n",
        "import matplotlib.pyplot as plt\n",
        "\n",
        "from tensorflow.keras.callbacks import EarlyStopping, ReduceLROnPlateau,ModelCheckpoint\n",
        "\n",
        "import tensorflow.compat.v2 as tf\n",
        "\n",
        "import tensorflow_datasets.public_api as tfds\n",
        "\n",
        "print('-'*40)\n",
        "print ('Python version: {}'.format(sys.version))\n",
        "\n",
        "device_name = tf.test.gpu_device_name()\n",
        "if device_name != '/device:GPU:0':\n",
        "  raise SystemError('GPU device not found')\n",
        "print('Found GPU at: {}'.format(device_name))"
      ],
      "execution_count": null,
      "outputs": [
        {
          "output_type": "stream",
          "text": [
            "----------------------------------------\n",
            "Python version: 3.7.11 (default, Jul  3 2021, 18:01:19) \n",
            "[GCC 7.5.0]\n",
            "Found GPU at: /device:GPU:0\n"
          ],
          "name": "stdout"
        }
      ]
    },
    {
      "cell_type": "markdown",
      "metadata": {
        "id": "WrlTKbVczthT"
      },
      "source": [
        "Loading EMNIST Dataset from Tensorflow."
      ]
    },
    {
      "cell_type": "code",
      "metadata": {
        "colab": {
          "base_uri": "https://localhost:8080/"
        },
        "id": "02bf__BFz3X0",
        "outputId": "8b091e8b-37e4-42b6-e5fe-0e9db8d779b7"
      },
      "source": [
        "(emnist_train, emnist_test), ds_info = tfds.load('emnist', \n",
        "                                                 split = ['train', 'test'], \n",
        "                                                 shuffle_files=True, \n",
        "                                                 as_supervised=True, \n",
        "                                                 with_info=True) #change as supervised if examples needed\n",
        "#assert isinstance(emnist_train, tf.data.Dataset)\n",
        "print(ds_info)"
      ],
      "execution_count": null,
      "outputs": [
        {
          "output_type": "stream",
          "text": [
            "tfds.core.DatasetInfo(\n",
            "    name='emnist',\n",
            "    version=3.0.0,\n",
            "    description='The EMNIST dataset is a set of handwritten character digits derived from the NIST Special Database 19 and converted to a 28x28 pixel image format and dataset structure that directly matches the MNIST dataset.\n",
            "\n",
            "Note: Like the original EMNIST data, images provided here are inverted horizontally and rotated 90 anti-clockwise. You can use `tf.transpose` within `ds.map` to convert the images to a human-friendlier format.',\n",
            "    homepage='https://www.nist.gov/itl/products-and-services/emnist-dataset',\n",
            "    features=FeaturesDict({\n",
            "        'image': Image(shape=(28, 28, 1), dtype=tf.uint8),\n",
            "        'label': ClassLabel(shape=(), dtype=tf.int64, num_classes=62),\n",
            "    }),\n",
            "    total_num_examples=814255,\n",
            "    splits={\n",
            "        'test': 116323,\n",
            "        'train': 697932,\n",
            "    },\n",
            "    supervised_keys=('image', 'label'),\n",
            "    citation=\"\"\"@article{cohen_afshar_tapson_schaik_2017,\n",
            "        title={EMNIST: Extending MNIST to handwritten letters},\n",
            "        DOI={10.1109/ijcnn.2017.7966217},\n",
            "        journal={2017 International Joint Conference on Neural Networks (IJCNN)},\n",
            "        author={Cohen, Gregory and Afshar, Saeed and Tapson, Jonathan and Schaik, Andre Van},\n",
            "        year={2017}\n",
            "    }\"\"\",\n",
            "    redistribution_info=,\n",
            ")\n",
            "\n"
          ],
          "name": "stdout"
        }
      ]
    },
    {
      "cell_type": "markdown",
      "metadata": {
        "id": "srFQj-0fyhEs"
      },
      "source": [
        "Normalize images, and prepare dataloader."
      ]
    },
    {
      "cell_type": "code",
      "metadata": {
        "id": "8wVpfVvZyjdo"
      },
      "source": [
        "def normalize_img(img, label):\n",
        "  return tf.cast(img, tf.float32)/255.0,label\n",
        "\n",
        "AUTOTUNE = tf.data.experimental.AUTOTUNE\n",
        "BATCH_SIZE = 64\n",
        "emnist_train = emnist_train.map(normalize_img, num_parallel_calls = AUTOTUNE)\n",
        "emnist_train = emnist_train.cache()\n",
        "emnist_train = emnist_train.shuffle(ds_info.splits['train'].num_examples)\n",
        "emnist_train = emnist_train.batch(BATCH_SIZE)\n",
        "emnist_train = emnist_train.prefetch(AUTOTUNE)\n",
        "\n",
        "emnist_test = emnist_test.map(normalize_img, num_parallel_calls = AUTOTUNE)\n",
        "emnist_test = emnist_test.batch(BATCH_SIZE)\n",
        "emnist_test = emnist_test.cache()\n",
        "emnist_test = emnist_test.prefetch(AUTOTUNE)"
      ],
      "execution_count": null,
      "outputs": []
    },
    {
      "cell_type": "markdown",
      "metadata": {
        "id": "oHJFrdN0LuSY"
      },
      "source": [
        "Building, compile and fit model."
      ]
    },
    {
      "cell_type": "code",
      "metadata": {
        "colab": {
          "base_uri": "https://localhost:8080/"
        },
        "id": "J4eYAU6OsLVD",
        "outputId": "c90f50dd-ffcb-489b-ab8e-456d9f110112"
      },
      "source": [
        "model = models.Sequential()\n",
        "model.add(layers.Conv2D(32, (5,5), \n",
        "                        input_shape = (28,28,1), activation = 'relu', \n",
        "                        strides = (1,1))) #32 output channels\n",
        "model.add(layers.Conv2D(64, (3,3), activation='relu', strides = (1,1)))\n",
        "\n",
        "model.add(layers.MaxPooling2D(2,2))\n",
        "\n",
        "model.add(layers.Flatten())\n",
        "model.add(layers.Dense(512,activation='relu'))\n",
        "model.add(layers.Dense(128,activation='relu'))\n",
        "model.add(layers.Dense(62, activation='softmax'))\n",
        "\n",
        "\n",
        "\n",
        "model.compile(optimizer = keras.optimizers.Adam(learning_rate = 0.001), \n",
        "              loss = keras.losses.SparseCategoricalCrossentropy(from_logits = True), \n",
        "              metrics = ['accuracy'])\n",
        "\n",
        "model.summary()\n",
        "\n",
        "MCP = ModelCheckpoint('Best_points.h5',verbose=1,\n",
        "                      save_best_only=True,\n",
        "                      monitor='accuracy',mode='max')\n",
        "ES = EarlyStopping(monitor='accuracy',min_delta=0,\n",
        "                   verbose=0,restore_best_weights = True,\n",
        "                   patience=3,mode='max')\n",
        "RLP = ReduceLROnPlateau(monitor='loss',patience=3,factor=0.2,min_lr=0.0001)\n",
        "\n",
        "history = model.fit(emnist_train, epochs = 45, callbacks=[MCP,ES,RLP])"
      ],
      "execution_count": null,
      "outputs": [
        {
          "output_type": "stream",
          "text": [
            "Model: \"sequential_3\"\n",
            "_________________________________________________________________\n",
            "Layer (type)                 Output Shape              Param #   \n",
            "=================================================================\n",
            "conv2d_6 (Conv2D)            (None, 24, 24, 32)        832       \n",
            "_________________________________________________________________\n",
            "conv2d_7 (Conv2D)            (None, 22, 22, 64)        18496     \n",
            "_________________________________________________________________\n",
            "max_pooling2d_3 (MaxPooling2 (None, 11, 11, 64)        0         \n",
            "_________________________________________________________________\n",
            "flatten_3 (Flatten)          (None, 7744)              0         \n",
            "_________________________________________________________________\n",
            "dense_9 (Dense)              (None, 512)               3965440   \n",
            "_________________________________________________________________\n",
            "dense_10 (Dense)             (None, 128)               65664     \n",
            "_________________________________________________________________\n",
            "dense_11 (Dense)             (None, 62)                7998      \n",
            "=================================================================\n",
            "Total params: 4,058,430\n",
            "Trainable params: 4,058,430\n",
            "Non-trainable params: 0\n",
            "_________________________________________________________________\n",
            "Epoch 1/45\n"
          ],
          "name": "stdout"
        },
        {
          "output_type": "stream",
          "text": [
            "/usr/local/lib/python3.7/dist-packages/tensorflow/python/keras/backend.py:4930: UserWarning: \"`sparse_categorical_crossentropy` received `from_logits=True`, but the `output` argument was produced by a sigmoid or softmax activation and thus does not represent logits. Was this intended?\"\n",
            "  '\"`sparse_categorical_crossentropy` received `from_logits=True`, but '\n"
          ],
          "name": "stderr"
        },
        {
          "output_type": "stream",
          "text": [
            "10906/10906 [==============================] - 58s 5ms/step - loss: 0.4570 - accuracy: 0.8401\n",
            "\n",
            "Epoch 00001: accuracy improved from -inf to 0.84006, saving model to Best_points.h5\n",
            "Epoch 2/45\n",
            "10906/10906 [==============================] - 58s 5ms/step - loss: 0.3593 - accuracy: 0.8662\n",
            "\n",
            "Epoch 00002: accuracy improved from 0.84006 to 0.86624, saving model to Best_points.h5\n",
            "Epoch 3/45\n",
            "10906/10906 [==============================] - 59s 5ms/step - loss: 0.3277 - accuracy: 0.8750\n",
            "\n",
            "Epoch 00003: accuracy improved from 0.86624 to 0.87500, saving model to Best_points.h5\n",
            "Epoch 4/45\n",
            "10906/10906 [==============================] - 58s 5ms/step - loss: 0.3024 - accuracy: 0.8823\n",
            "\n",
            "Epoch 00004: accuracy improved from 0.87500 to 0.88233, saving model to Best_points.h5\n",
            "Epoch 5/45\n",
            "10906/10906 [==============================] - 58s 5ms/step - loss: 0.2799 - accuracy: 0.8893\n",
            "\n",
            "Epoch 00005: accuracy improved from 0.88233 to 0.88931, saving model to Best_points.h5\n",
            "Epoch 6/45\n",
            "10906/10906 [==============================] - 58s 5ms/step - loss: 0.2599 - accuracy: 0.8966\n",
            "\n",
            "Epoch 00006: accuracy improved from 0.88931 to 0.89660, saving model to Best_points.h5\n",
            "Epoch 7/45\n",
            "10906/10906 [==============================] - 58s 5ms/step - loss: 0.2406 - accuracy: 0.9039\n",
            "\n",
            "Epoch 00007: accuracy improved from 0.89660 to 0.90392, saving model to Best_points.h5\n",
            "Epoch 8/45\n",
            "10906/10906 [==============================] - 58s 5ms/step - loss: 0.2228 - accuracy: 0.9109\n",
            "\n",
            "Epoch 00008: accuracy improved from 0.90392 to 0.91087, saving model to Best_points.h5\n",
            "Epoch 9/45\n",
            "10906/10906 [==============================] - 58s 5ms/step - loss: 0.2054 - accuracy: 0.9177\n",
            "\n",
            "Epoch 00009: accuracy improved from 0.91087 to 0.91767, saving model to Best_points.h5\n",
            "Epoch 10/45\n",
            "10906/10906 [==============================] - 58s 5ms/step - loss: 0.1899 - accuracy: 0.9244\n",
            "\n",
            "Epoch 00010: accuracy improved from 0.91767 to 0.92435, saving model to Best_points.h5\n",
            "Epoch 11/45\n",
            "10906/10906 [==============================] - 58s 5ms/step - loss: 0.1762 - accuracy: 0.9304\n",
            "\n",
            "Epoch 00011: accuracy improved from 0.92435 to 0.93045, saving model to Best_points.h5\n",
            "Epoch 12/45\n",
            "10906/10906 [==============================] - 58s 5ms/step - loss: 0.1646 - accuracy: 0.9354\n",
            "\n",
            "Epoch 00012: accuracy improved from 0.93045 to 0.93537, saving model to Best_points.h5\n",
            "Epoch 13/45\n",
            "10906/10906 [==============================] - 58s 5ms/step - loss: 0.1546 - accuracy: 0.9402\n",
            "\n",
            "Epoch 00013: accuracy improved from 0.93537 to 0.94016, saving model to Best_points.h5\n",
            "Epoch 14/45\n",
            "10906/10906 [==============================] - 59s 5ms/step - loss: 0.1455 - accuracy: 0.9442\n",
            "\n",
            "Epoch 00014: accuracy improved from 0.94016 to 0.94415, saving model to Best_points.h5\n",
            "Epoch 15/45\n",
            "10906/10906 [==============================] - 58s 5ms/step - loss: 0.1366 - accuracy: 0.9479\n",
            "\n",
            "Epoch 00015: accuracy improved from 0.94415 to 0.94785, saving model to Best_points.h5\n",
            "Epoch 16/45\n",
            "10906/10906 [==============================] - 58s 5ms/step - loss: 0.1298 - accuracy: 0.9508\n",
            "\n",
            "Epoch 00016: accuracy improved from 0.94785 to 0.95082, saving model to Best_points.h5\n",
            "Epoch 17/45\n",
            "10906/10906 [==============================] - 58s 5ms/step - loss: 0.1236 - accuracy: 0.9538\n",
            "\n",
            "Epoch 00017: accuracy improved from 0.95082 to 0.95382, saving model to Best_points.h5\n",
            "Epoch 18/45\n",
            "10906/10906 [==============================] - 58s 5ms/step - loss: 0.1172 - accuracy: 0.9564\n",
            "\n",
            "Epoch 00018: accuracy improved from 0.95382 to 0.95644, saving model to Best_points.h5\n",
            "Epoch 19/45\n",
            "10906/10906 [==============================] - 58s 5ms/step - loss: 0.1140 - accuracy: 0.9585\n",
            "\n",
            "Epoch 00019: accuracy improved from 0.95644 to 0.95854, saving model to Best_points.h5\n",
            "Epoch 20/45\n",
            "10906/10906 [==============================] - 59s 5ms/step - loss: 0.1087 - accuracy: 0.9605\n",
            "\n",
            "Epoch 00020: accuracy improved from 0.95854 to 0.96051, saving model to Best_points.h5\n",
            "Epoch 21/45\n",
            "10906/10906 [==============================] - 58s 5ms/step - loss: 0.1056 - accuracy: 0.9625\n",
            "\n",
            "Epoch 00021: accuracy improved from 0.96051 to 0.96247, saving model to Best_points.h5\n",
            "Epoch 22/45\n",
            "10906/10906 [==============================] - 58s 5ms/step - loss: 0.1013 - accuracy: 0.9643\n",
            "\n",
            "Epoch 00022: accuracy improved from 0.96247 to 0.96425, saving model to Best_points.h5\n",
            "Epoch 23/45\n",
            "10906/10906 [==============================] - 58s 5ms/step - loss: 0.0984 - accuracy: 0.9658\n",
            "\n",
            "Epoch 00023: accuracy improved from 0.96425 to 0.96584, saving model to Best_points.h5\n",
            "Epoch 24/45\n",
            "10906/10906 [==============================] - 58s 5ms/step - loss: 0.0945 - accuracy: 0.9674\n",
            "\n",
            "Epoch 00024: accuracy improved from 0.96584 to 0.96744, saving model to Best_points.h5\n",
            "Epoch 25/45\n",
            "10906/10906 [==============================] - 59s 5ms/step - loss: 0.0908 - accuracy: 0.9690\n",
            "\n",
            "Epoch 00025: accuracy improved from 0.96744 to 0.96900, saving model to Best_points.h5\n",
            "Epoch 26/45\n",
            "10906/10906 [==============================] - 58s 5ms/step - loss: 0.0890 - accuracy: 0.9701\n",
            "\n",
            "Epoch 00026: accuracy improved from 0.96900 to 0.97006, saving model to Best_points.h5\n",
            "Epoch 27/45\n",
            "10906/10906 [==============================] - 59s 5ms/step - loss: 0.0867 - accuracy: 0.9711\n",
            "\n",
            "Epoch 00027: accuracy improved from 0.97006 to 0.97107, saving model to Best_points.h5\n",
            "Epoch 28/45\n",
            "10906/10906 [==============================] - 58s 5ms/step - loss: 0.0848 - accuracy: 0.9723\n",
            "\n",
            "Epoch 00028: accuracy improved from 0.97107 to 0.97228, saving model to Best_points.h5\n",
            "Epoch 29/45\n",
            "10906/10906 [==============================] - 58s 5ms/step - loss: 0.0822 - accuracy: 0.9733\n",
            "\n",
            "Epoch 00029: accuracy improved from 0.97228 to 0.97334, saving model to Best_points.h5\n",
            "Epoch 30/45\n",
            "10906/10906 [==============================] - 59s 5ms/step - loss: 0.0816 - accuracy: 0.9741\n",
            "\n",
            "Epoch 00030: accuracy improved from 0.97334 to 0.97407, saving model to Best_points.h5\n",
            "Epoch 31/45\n",
            "10906/10906 [==============================] - 58s 5ms/step - loss: 0.0803 - accuracy: 0.9748\n",
            "\n",
            "Epoch 00031: accuracy improved from 0.97407 to 0.97484, saving model to Best_points.h5\n",
            "Epoch 32/45\n",
            "10906/10906 [==============================] - 58s 5ms/step - loss: 0.0784 - accuracy: 0.9756\n",
            "\n",
            "Epoch 00032: accuracy improved from 0.97484 to 0.97559, saving model to Best_points.h5\n",
            "Epoch 33/45\n",
            "10906/10906 [==============================] - 58s 5ms/step - loss: 0.0771 - accuracy: 0.9764\n",
            "\n",
            "Epoch 00033: accuracy improved from 0.97559 to 0.97641, saving model to Best_points.h5\n",
            "Epoch 34/45\n",
            "10906/10906 [==============================] - 58s 5ms/step - loss: 0.0764 - accuracy: 0.9768\n",
            "\n",
            "Epoch 00034: accuracy improved from 0.97641 to 0.97680, saving model to Best_points.h5\n",
            "Epoch 35/45\n",
            "10906/10906 [==============================] - 58s 5ms/step - loss: 0.0748 - accuracy: 0.9775\n",
            "\n",
            "Epoch 00035: accuracy improved from 0.97680 to 0.97746, saving model to Best_points.h5\n",
            "Epoch 36/45\n",
            "10906/10906 [==============================] - 59s 5ms/step - loss: 0.0729 - accuracy: 0.9784\n",
            "\n",
            "Epoch 00036: accuracy improved from 0.97746 to 0.97841, saving model to Best_points.h5\n",
            "Epoch 37/45\n",
            "10906/10906 [==============================] - 59s 5ms/step - loss: 0.0744 - accuracy: 0.9785\n",
            "\n",
            "Epoch 00037: accuracy improved from 0.97841 to 0.97852, saving model to Best_points.h5\n",
            "Epoch 38/45\n",
            "10906/10906 [==============================] - 59s 5ms/step - loss: 0.0722 - accuracy: 0.9793\n",
            "\n",
            "Epoch 00038: accuracy improved from 0.97852 to 0.97932, saving model to Best_points.h5\n",
            "Epoch 39/45\n",
            "10906/10906 [==============================] - 59s 5ms/step - loss: 0.0714 - accuracy: 0.9797\n",
            "\n",
            "Epoch 00039: accuracy improved from 0.97932 to 0.97967, saving model to Best_points.h5\n",
            "Epoch 40/45\n",
            "10906/10906 [==============================] - 59s 5ms/step - loss: 0.0706 - accuracy: 0.9805\n",
            "\n",
            "Epoch 00040: accuracy improved from 0.97967 to 0.98046, saving model to Best_points.h5\n",
            "Epoch 41/45\n",
            "10906/10906 [==============================] - 58s 5ms/step - loss: 0.0697 - accuracy: 0.9808\n",
            "\n",
            "Epoch 00041: accuracy improved from 0.98046 to 0.98080, saving model to Best_points.h5\n",
            "Epoch 42/45\n",
            "10906/10906 [==============================] - 59s 5ms/step - loss: 0.0721 - accuracy: 0.9806\n",
            "\n",
            "Epoch 00042: accuracy did not improve from 0.98080\n",
            "Epoch 43/45\n",
            "10906/10906 [==============================] - 59s 5ms/step - loss: 0.0706 - accuracy: 0.9812\n",
            "\n",
            "Epoch 00043: accuracy improved from 0.98080 to 0.98122, saving model to Best_points.h5\n",
            "Epoch 44/45\n",
            "10906/10906 [==============================] - 59s 5ms/step - loss: 0.0664 - accuracy: 0.9820\n",
            "\n",
            "Epoch 00044: accuracy improved from 0.98122 to 0.98203, saving model to Best_points.h5\n",
            "Epoch 45/45\n",
            "10906/10906 [==============================] - 59s 5ms/step - loss: 0.0688 - accuracy: 0.9822\n",
            "\n",
            "Epoch 00045: accuracy improved from 0.98203 to 0.98216, saving model to Best_points.h5\n"
          ],
          "name": "stdout"
        }
      ]
    },
    {
      "cell_type": "markdown",
      "metadata": {
        "id": "gwgqM30nL2KY"
      },
      "source": [
        "Evaluate model."
      ]
    },
    {
      "cell_type": "code",
      "metadata": {
        "id": "SPJIpcHewfzH",
        "colab": {
          "base_uri": "https://localhost:8080/"
        },
        "outputId": "639d0253-afa0-48dd-bf15-1a72120b52b2"
      },
      "source": [
        "model.evaluate(emnist_test)"
      ],
      "execution_count": null,
      "outputs": [
        {
          "output_type": "stream",
          "text": [
            "  37/1818 [..............................] - ETA: 5s - loss: 2.8938 - accuracy: 0.8433"
          ],
          "name": "stdout"
        },
        {
          "output_type": "stream",
          "text": [
            "/usr/local/lib/python3.7/dist-packages/tensorflow/python/keras/backend.py:4930: UserWarning: \"`sparse_categorical_crossentropy` received `from_logits=True`, but the `output` argument was produced by a sigmoid or softmax activation and thus does not represent logits. Was this intended?\"\n",
            "  '\"`sparse_categorical_crossentropy` received `from_logits=True`, but '\n"
          ],
          "name": "stderr"
        },
        {
          "output_type": "stream",
          "text": [
            "1818/1818 [==============================] - 5s 3ms/step - loss: 2.9877 - accuracy: 0.8400\n"
          ],
          "name": "stdout"
        },
        {
          "output_type": "execute_result",
          "data": {
            "text/plain": [
              "[2.987718105316162, 0.8399542570114136]"
            ]
          },
          "metadata": {
            "tags": []
          },
          "execution_count": 19
        }
      ]
    },
    {
      "cell_type": "markdown",
      "metadata": {
        "id": "HVvfxLnb3wVU"
      },
      "source": [
        "Display training results."
      ]
    },
    {
      "cell_type": "code",
      "metadata": {
        "colab": {
          "base_uri": "https://localhost:8080/",
          "height": 296
        },
        "id": "spxJqS2q25Xr",
        "outputId": "f81c4463-eb5e-40fd-c79a-6fb34861f4fd"
      },
      "source": [
        "q = len(history.history['accuracy'])\n",
        "\n",
        "plt.figsize=(10,10)\n",
        "sns.lineplot(x = range(1,1+q),y = history.history['accuracy'], label='Accuracy')\n",
        "plt.xlabel('Epochs')\n",
        "plt.ylabel('Accuracy')"
      ],
      "execution_count": null,
      "outputs": [
        {
          "output_type": "execute_result",
          "data": {
            "text/plain": [
              "Text(0, 0.5, 'Accuracy')"
            ]
          },
          "metadata": {
            "tags": []
          },
          "execution_count": 20
        },
        {
          "output_type": "display_data",
          "data": {
            "image/png": "[encoded data removed]",
            "text/plain": [
              "<Figure size 432x288 with 1 Axes>"
            ]
          },
          "metadata": {
            "tags": [],
            "needs_background": "light"
          }
        }
      ]
    }
  ]
}